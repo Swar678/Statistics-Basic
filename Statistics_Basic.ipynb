{
  "nbformat": 4,
  "nbformat_minor": 0,
  "metadata": {
    "colab": {
      "provenance": []
    },
    "kernelspec": {
      "name": "python3",
      "display_name": "Python 3"
    },
    "language_info": {
      "name": "python"
    }
  },
  "cells": [
    {
      "cell_type": "markdown",
      "source": [
        "# **Theory Questions**"
      ],
      "metadata": {
        "id": "BnPJEEe8Yvym"
      }
    },
    {
      "cell_type": "markdown",
      "source": [
        "1. What is statistics, and why is it important?\n",
        "   - Statistics is a branch of mathematics that involves collecting, organizing, analyzing, interpreting, and presenting data. It helps us understand and make sense of large amounts of information.\n",
        "   - It is important due to following reasons:\n",
        "     - Helps in Decision Making: Statistics allows individuals and organizations to make informed decisions based on data rather than guesswork.\n",
        "     - Summarizes Data: It summarizes large data sets into key figures like mean, median, and mode to easily understand trends and patterns.\n",
        "     - Identifies Trends and Patterns: Statistics helps reveal hidden trends in data (e.g., increase in sales, temperature patterns).\n",
        "     - Supports Predictions: It's used in forecasting, such as predicting weather, election outcomes, or future sales.\n",
        "     - Essential for Research: In scientific studies, statistics is used to test hypotheses and draw reliable conclusions.\n",
        "     - Used in Daily Life: From sports scores to medical reports, statistics is used everywhere to describe real-world phenomena.\n",
        "\n",
        "2. What are the two main types of statistics?\n",
        "   - Two main types of statistics are as follows:\n",
        "    - Descriptive Statistics: This type helps us to summarize and describe the main features of a dataset. It gives us values like mean, median, mode, range, and standard deviation to understand the data better.\n",
        "    - Inferential Statistics: This type allows us to make predictions or draw conclusions about a larger group based on a smaller sample of data. It includes techniques like hypothesis testing, confidence intervals, and regression analysis.\n",
        "\n",
        "3. What are descriptive statistics?\n",
        "   - Descriptive statistics helps us to summarize and describe the main features of a dataset. It gives us values like mean, median, mode, range, and standard deviation to understand the data better.\n",
        "\n",
        "4.  What is inferential statistics?\n",
        "    - Inferential statistics helps us to make predictions or draw conclusions about a larger group based on a smaller sample of data. It includes techniques like hyphothesis testing, confidence intervals, and regression analysis.\n",
        "\n",
        "5. What is sampling in statistics?\n",
        "   - Sampling in statistics is a way of selecting a small group (called a sample) from a larger group (called a population) so we can study and analyze the smaller group and use it to make conclusions about the whole population.\n",
        "   - It helps save time, cost, and effort compared to studying the entire population.\n",
        "\n",
        "6. What are the different types of sampling methods?\n",
        "   - Different types of sampling methods  are as follows:\n",
        "     - Simple random sampling - Every individual has an equal chance of being selected, like picking names from a hat.\n",
        "     - Stratified sampling - The population is divided into groups (strata), and samples are taken from each group to ensure representation.\n",
        "     - Systematic sampling - Selecting every k'th person from a list (e.g., every 10th person on a list).\n",
        "     - Cluster sampling - The population is divided into clusters (like neighborhoods), and a few entire clusters are randomly selected for study.\n",
        "\n",
        "7. What is the difference between random and non-random sampling?\n",
        "   - Random Sampling: In random sampling, every individual in the population has an equal chance of being selected.\n",
        "     - This method reduces bias and ensures that the sample represents the population well. Example: Drawing names from a hat.\n",
        "  - Non-Random Sampling: In non-random sampling, individuals are selected based on specific criteria or convenience, not randomly.\n",
        "     - This method can introduce bias and may not accurately represent the whole population. Example: Surveying only people in a nearby café.\n",
        "\n",
        "8. Define and give examples of qualitative and quantitative data.\n",
        "   - Qualitative Data:\n",
        "        - This type of data describes qualities or characteristics.\n",
        "        - It is non-numerical and usually grouped by category or label.\n",
        "        - Examples:\n",
        "            - Eye color (e.g., brown, blue)\n",
        "            - Feedback (e.g., \"Excellent\", \"Poor\")\n",
        "            - Type of fruit (e.g., apple, banana)\n",
        "  - Quantitative Data:\n",
        "       - This data represents quantities and is numerical.\n",
        "       - It can be discrete (countable) or continuous (measurable).\n",
        "       - Examples:\n",
        "            - Discrete: Number of students in a class (e.g., 25)\n",
        "            - Continuous: Height of a person (e.g., 5.6 feet)\n",
        "\n",
        "9. What are the different types of data in statistics?\n",
        "   - 1. Qualitative (Categorical) Data: Describes qualities or characteristics, it is non-numeric.\n",
        "   - Types:\n",
        "     - Nominal: Categories without a specific order.\n",
        "         - Example: Gender (Male, Female), Colors (Red, Blue)\n",
        "     - Ordinal: Categories with a meaningful order, but no consistent difference between them.\n",
        "         - Example: Rating (Poor, Fair, Good, Excellent), Education level (High school, Graduate, Postgraduate)\n",
        "   - 2. Quantitative (Numerical) Data: Describes quantities or amounts, it is numeric.\n",
        "   - Types:\n",
        "      - Discrete: Countable numbers.\n",
        "           - Example: Number of children in a family, Number of cars\n",
        "      - Continuous: Measurable and can take any value within a range.\n",
        "           - Example: Height, Weight, Temperature\n",
        "\n",
        "10. Explain nominal, ordinal, interval, and ratio levels of measurement.\n",
        "    - Nominal Level: Data is categorized into distinct groups or labels without any order or ranking.\n",
        "    - Characteristics:\n",
        "      - Categories are names or labels.\n",
        "      - Cannot be ordered.\n",
        "      - No mathematical operations can be performed.\n",
        "      - Examples:\n",
        "          - Gender (Male, Female)\n",
        "          - Colors (Red, Blue, Green)\n",
        "          - Types of fruits (Apple, Banana, Mango)\n",
        "   - Ordinal Level: Data is categorized with a meaningful order, but the differences between values are not uniform or measurable.\n",
        "   - Characteristics:\n",
        "     - Can be ranked or ordered.\n",
        "     - Exact differences between levels are not known.\n",
        "   - Examples:\n",
        "       - Education level (Primary, Secondary, Graduate)\n",
        "       - Customer satisfaction (Poor, Fair, Good, Excellent)\n",
        "       - Class rank (1st, 2nd, 3rd)\n",
        "   - Interval Level: Numeric data where the difference between values is meaningful, but there is no true zero point.\n",
        "   - Characteristics:\n",
        "     - Ordered and evenly spaced.\n",
        "     - No absolute zero - zero doesn't mean absence.\n",
        "     - Can add and subtract, but not multiply or divide meaningfully.\n",
        "   - Examples:\n",
        "       - Temperature in Celsius or Fahrenheit (0°C ≠ no temperature)\n",
        "       - IQ scores\n",
        "       - Calendar years (2000, 2020)\n",
        "   - Ratio Level: Numeric data with all the properties of interval data, plus a true zero point.\n",
        "   - Characteristics:\n",
        "     - Can perform all mathematical operations: add, subtract, multiply, divide.\n",
        "     - Zero means complete absence of the variable.\n",
        "   - Examples:\n",
        "     - Height, Weight\n",
        "     - Age\n",
        "     - Income, Distance, Speed\n",
        "\n",
        "11. What is the measure of central tendency?\n",
        "    - The measure of central tendency is a statistical value that represents the center or typical value in a dataset. It tells us where most values in a dataset tend to cluster.\n",
        "\n",
        "12.  Define mean, median, and mode.\n",
        "     - Mean (Average): Sum of all values divided by the number of values.\n",
        "          - Best used: When the data is continuous and has no extreme outliers.\n",
        "          - Example: Data: [10, 20, 30], Mean = (10+20+30)/3 = 20\n",
        "      - Median: The middle value when the data is sorted.\n",
        "           - Best used: When there are outliers or skewed data.\n",
        "           - Example: Data: [10, 20, 100], Median = 20 (middle value)\n",
        "      - Mode: The value that appears most frequently in a dataset.\n",
        "           - Best used: For categorical data or when you want the most common value.\n",
        "           - Example: Data: [10, 20, 20, 30], Mode = 20\n",
        "\n",
        "13. What is the significance of the measure of central tendency?\n",
        "    - The measure of central tendency is important because it gives a single value that represents the entire dataset, making it easier to understand and compare data.\n",
        "    - Summarizes data: Gives a quick overview of the dataset using just one number (mean, median, or mode).\n",
        "    - Comparison between groups: Helps compare performance or outcomes between different groups (e.g., average marks of two classes).\n",
        "    - Decision-making tool: Businesses, governments, and researchers use it to make informed decisions (e.g., average income for budgeting).\n",
        "    - Detects skewness or outliers: The difference between mean and median can show if the data is skewed or has outliers.\n",
        "    - Supports other statistical methods: Used as a base in further statistical analyses like standard deviation, correlation, regression, etc.\n",
        "\n",
        "14. What is variance, and how is it calculated?\n",
        "    - Variance is a measure of how much the values in a dataset vary (spread out) from the mean (average).\n",
        "    - It tells us how far each number in the set is from the average and therefore from every other number in the set.\n",
        "    - It is important because of the following reasons:\n",
        "       - It helps understand data consistency.\n",
        "       - A low variance means the numbers are close to the mean.\n",
        "       - A high variance means the numbers are more spread out.\n",
        "    - Steps:\n",
        "        - Find the mean of the dataset.\n",
        "        - Subtract the mean from each data point and square the result.\n",
        "        - Sum all the squared values.\n",
        "        - Divide by: n for population variance, n - 1 for sample variance (used more often)\n",
        "        - Formula (for sample variance):\n",
        "                          s2 = 1/(n-1)* ∑(xi-xbar)2\n",
        "                          Where: xi = each value\n",
        "                          x bar = mean of the values\n",
        "                          n = total number of values\n",
        "                          \n",
        "                      import numpy as np\n",
        "                      data = [10,20,30,40,50]\n",
        "                      variance - np.var(data, ddof=1) # ddof=1 for sample variance\n",
        "                      print(variance)\n",
        "\n",
        "15. What is standard deviation, and why is it important?\n",
        "    - Standard deviation is a measure that tells us how spread out or dispersed the values in a dataset are around the mean (average).\n",
        "    - It is the square root of variance.\n",
        "    - It is important because of the following reasons:\n",
        "        - It quantifies variability: A small SD means data points are close to the mean, and a large SD means data is spread out.\n",
        "        - It helps to understand the consistency of the data.\n",
        "        - It is widely used in risk analysis, finance, quality control, and scientific experiments.\n",
        "        - It allows for comparison between different datasets, even with different units.\n",
        "\n",
        "                    import numpy as np\n",
        "                    import pandas as pd\n",
        "                    \n",
        "                    # using NumPy\n",
        "                    data = [10,20,30,40,50]\n",
        "                    mean_np = np.mean(data)\n",
        "                    variance_np = np.var(data, ddof=1)\n",
        "                    std_dev_np = np.std(data, ddof=1)\n",
        "\n",
        "                    # using Pandas\n",
        "                    df = pd.DataFrame({\"Age\": data})\n",
        "                    mean_pd = df[\"Age\"].mean()\n",
        "                    variance_pd = df[\"Age\"].var()\n",
        "                    std_dev_np = df[\"Age\"].std()\n",
        "\n",
        "16. Define and explain the term range in statistics.\n",
        "    - Range is a measure of dispersion that tells us the difference between the maximum and minimum values in a dataset.\n",
        "    - Range=Maximum value - Minimum value\n",
        "    - It is important because of the following reasons:\n",
        "        - It gives a quick sense of how spread out the data is.\n",
        "        - Useful for comparing variability between two or more datasets.\n",
        "        - Limitation: It only considers the two extreme values, so it can be misleading if there's an outlier.\n",
        "\n",
        "                    import pandas as pd\n",
        "                     df = pd.DataFrame({\"Age\": [10,20,30,40,50]})\n",
        "                     range_value = df[\"Age\"].max() - df[\"Age\"].min()\n",
        "                     print(range_value)\n",
        "\n",
        "17. What is the difference between variance and standard deviation?\n",
        "    - Variance measures the average squared deviation from the mean — it is in squared units, which can be harder to interpret directly.\n",
        "    - Standard deviation is the square root of variance, so it is in the same units as the original data, making it easier to understand.\n",
        "    - Variance emphasizes larger deviations more due to squaring, which can exaggerate the effect of outliers.\n",
        "    - Standard deviation gives a more intuitive sense of how far values typically lie from the mean.\n",
        "    - Variance is used in intermediate steps of statistical calculations like ANOVA and regression.\n",
        "    - Standard deviation is more commonly reported and used in data summaries and visualizations.\n",
        "\n",
        "18. What is skewness in a dataset?\n",
        "    - Skewness in a dataset refers to the asymmetry or lack of symmetry in the distribution of values.\n",
        "    - A perfectly symmetrical distribution (like a normal distribution) has zero skewness.\n",
        "    - Positive skew (right-skewed): The tail is longer on the right side. Most values are concentrated on the left. Mean > Median > Mode\n",
        "    - Example: Income distribution.\n",
        "    - Negative skew (left-skewed): The tail is longer on the left side. Most values are concentrated on the right. Mean < Median < Mode\n",
        "    - Example: Age at retirement.\n",
        "    - It is important because of the following reasons:\n",
        "         - Skewness helps assess normality, which is important for statistical modeling and hypothesis testing.\n",
        "         - It can indicate the presence of outliers or data transformation needs.\n",
        "\n",
        "19. What does it mean if a dataset is positively or negatively skewed?\n",
        "    - Positively Skewed (Right-Skewed) Distribution:\n",
        "        - Tail on the right side (towards higher values)\n",
        "        - Most values are clustered on the left\n",
        "        - A few extremely high values pull the mean to the right\n",
        "        - Mean > Median > Mode\n",
        "        - Example: Income distribution — most people earn moderate income, but a few earn very high salaries.\n",
        "   - Negatively Skewed (Left-Skewed) Distribution:\n",
        "        - Tail on the left side (towards lower values)\n",
        "        - Most values are clustered on the right\n",
        "        - A few extremely low values pull the mean to the left\n",
        "        - Mean < Median < Mode\n",
        "        - Example: Age of retirement home residents — most are older, but a few are early retirees.\n",
        "        - It is important because of the following reasons:\n",
        "            - Skewness affects statistical analysis — especially mean and standard deviation.\n",
        "            - Right-skewed: mean is inflated.\n",
        "            - Left-skewed: mean is lowered.\n",
        "            - Use median instead of mean when data is skewed, as it better represents the central tendency.\n",
        "\n",
        "                      import pandas as pd\n",
        "                      from scipy.stats import skew\n",
        "                      data = {\"Income\": [100,200,300,400,500,1000]}\n",
        "                      df = pd.DataFrame(data)\n",
        "                      skew_value = skew(df[\"Income\"])\n",
        "                      print(skew_value)\n",
        "\n",
        "                      # Visualization\n",
        "                      import seaborn as sns\n",
        "                      import matplotlib.pyplot as plt\n",
        "                      sns.histplot(df[\"Income\"], kde=True)\n",
        "                      plt.title(\"Distribution of Income\")\n",
        "                      plt.show()\n",
        "\n",
        "20. Define and explain kurtosis.\n",
        "    - Kurtosis is a statistical measure used to describe the shape of a distribution's tails. It indicates the extent to which a distribution differs from a normal distribution in terms of the sharpness of its peak and the weight of its tails.\n",
        "    - There are three main types of kurtosis:\n",
        "    - Mesokurtic: A distribution with a kurtosis value similar to that of a normal distribution (i.e., kurtosis = 3).\n",
        "    - Characteristics: It has a moderate peak and tail weight, similar to a normal distribution. The tails are neither too heavy nor too light.\n",
        "    - Example: The normal distribution is mesokurtic.\n",
        "    - Leptokurtic: A distribution with a kurtosis value greater than 3 (kurtosis > 3).\n",
        "    - Characteristics: It has a sharper peak and heavier tails than a normal distribution. Leptokurtic distributions tend to have more frequent extreme values or outliers.\n",
        "    - Example: The distribution of stock returns often exhibits leptokurtosis, as extreme price changes (outliers) are more frequent than in a normal distribution.\n",
        "    - Platykurtic: A distribution with a kurtosis value less than 3 (kurtosis < 3).\n",
        "    - Characteristics: It has a flatter peak and lighter tails than a normal distribution. Platykurtic distributions tend to have fewer extreme values or outliers.\n",
        "    - Example: Uniform distributions are platykurtic, as their values are evenly spread without extreme outliers.\n",
        "    - Interpretation:\n",
        "         - Kurtosis > 0: Sharp peak, fat tails — more risk of extreme values.\n",
        "         - Kurtosis < 0: Flat distribution, low risk of outliers.\n",
        "         - Kurtosis = 0: Normal distribution.\n",
        "\n",
        "                      import pandas as pd\n",
        "                      from scipy.stats import kurtosis\n",
        "                      data = {\"Income\": [100,200,300,400,500,1000]}\n",
        "                      df = pd.DataFrame(data)\n",
        "                      skew_value = kurtosis(df[\"Income\"])\n",
        "                      print(skew_value)\n",
        "\n",
        "21. What is the purpose of covariance?\n",
        "    - Covariance is a statistical measure used to determine the relationship between two random variables. Specifically, it quantifies how two variables change together.\n",
        "    - In other words, it indicates whether an increase in one variable tends to be accompanied by an increase or decrease in the other.\n",
        "    - Purpose of Covariance are as follows:\n",
        "         - Measure of Relationship: Covariance helps in understanding whether two variables have a positive, negative, or no relationship.\n",
        "               - Positive Covariance: If the covariance is positive, it indicates that as one variable increases, the other tends to increase as well.\n",
        "               - Negative Covariance: If the covariance is negative, it suggests that as one variable increases, the other tends to decrease.\n",
        "               - Zero Covariance: A covariance of zero means that the two variables do not have any linear relationship with each other.\n",
        "        - Direction of Relationship:\n",
        "               - Covariance helps identify the direction of the relationship. However, unlike correlation, covariance does not standardize the relationship, meaning its magnitude depends on the units of the variables involved. This makes direct comparisons between different pairs of variables difficult unless the units are the same.\n",
        "        - Foundation for Correlation:\n",
        "                - Covariance is the foundation for calculating correlation, which is a normalized version of covariance. Correlation standardizes the covariance by dividing it by the product of the standard deviations of the two variables, thus making it easier to compare relationships across different datasets.\n",
        "         - Portfolio and Risk Management:\n",
        "                - In finance, covariance is widely used to assess the relationship between the returns of different assets. By understanding how the returns of two stocks move together, investors can build diversified portfolios, aiming to minimize risk by choosing assets with low or negative covariance.\n",
        "\n",
        "\n",
        "                      import pandas as pd\n",
        "                      # Sample data for two variables X and Y in a DataFrame\n",
        "                      data = {\n",
        "                            'X': [1, 2, 3, 4, 5],\n",
        "                            'Y': [5, 4, 3, 2, 1]\n",
        "                                 }\n",
        "                      df = pd.DataFrame(data)\n",
        "\n",
        "                     # Calculate covariance between columns\n",
        "                     cov_matrix = df.cov()\n",
        "                     print(cov_matrix)\n",
        "\n",
        "                    # Covariance between X and Y\n",
        "                    cov_XY = cov_matrix.loc['X', 'Y']\n",
        "                    print(cov_XY)\n",
        "\n",
        "22. What does correlation measure in statistics?\n",
        "    - In statistics, correlation measures the strength and direction of the linear relationship between two variables. It quantifies how one variable changes in relation to another and provides insight into the degree to which the two variables move together.\n",
        "    - Range: From -1 to 1.\n",
        "          - 1: Perfect positive correlation.\n",
        "          - -1: Perfect negative correlation.\n",
        "          - 0: No linear relationship.\n",
        "    - Types:\n",
        "        - Pearson: Measures linear relationships.\n",
        "        - Spearman/Kendall: Measures monotonic relationships (not necessarily linear).\n",
        "    - Positive correlation: Both variables increase together.\n",
        "    - Negative correlation: One variable increases as the other decreases.\n",
        "    - Correlation does not imply causation.\n",
        "          \n",
        "\n",
        "                     import pandas as pd\n",
        "                     # Create sample data\n",
        "                     data = {'X': [1, 2, 3, 4, 5],\n",
        "                           'Y': [5, 4, 3, 2, 1]}\n",
        "                     df = pd.DataFrame(data)\n",
        "                     # Calculate Pearson correlation\n",
        "                     correlation = df.corr(method='pearson')\n",
        "                     print(correlation)\n",
        "\n",
        "23. What is the difference between covariance and correlation?\n",
        "    - Covariance:\n",
        "        - Measures how two variables vary together.\n",
        "        - Only tells the direction of the relationship (positive/negative).\n",
        "        - Not standardized — values can range from -∞ to +∞.\n",
        "        - Depends on the units of the variables.\n",
        "        - Difficult to interpret when comparing across datasets.\n",
        "    - Correlation:\n",
        "        - Measures the strength and direction of a linear relationship.\n",
        "        - Standardized — always lies between -1 and +1.\n",
        "        - Unitless and scale-independent.\n",
        "        - Easier to interpret and compare.\n",
        "\n",
        "24. What are some real-world applications of statistics?\n",
        "    - 1. Business & Marketing:\n",
        "           - Customer behavior analysis\n",
        "           - Sales forecasting and market trends\n",
        "           - A/B testing for product or website optimization\n",
        "           - Pricing strategies based on demand patterns\n",
        "   - 2. Healthcare:\n",
        "            - Clinical trials for testing new drugs\n",
        "            - Medical research and disease pattern analysis\n",
        "            - Epidemiology: tracking spread of diseases like COVID-19\n",
        "            - Predictive analytics for patient diagnosis and hospital resource planning\n",
        "   - 3. Finance & Banking:\n",
        "           - Risk assessment and credit scoring\n",
        "           - Portfolio optimization\n",
        "           - Fraud detection\n",
        "           - Stock market analysis and algorithmic trading\n",
        "  - 4. Education:\n",
        "         - Student performance analysis\n",
        "         - Designing standardized tests and scaling scores\n",
        "         - Dropout rate prediction\n",
        "         - Improving curriculum effectiveness\n",
        "  - 5. Government & Public Policy:\n",
        "           - Census analysis and population projections\n",
        "           - Unemployment rate estimation\n",
        "           - Evaluating policy impact\n",
        "           - Crime statistics to allocate police resources\n",
        "   - 6. Technology & Data Science:\n",
        "           - Machine learning model evaluation\n",
        "           - Natural language processing and recommendation systems\n",
        "           - Data visualization and dashboards\n",
        "   - 7. Manufacturing & Quality Control:\n",
        "           - Six Sigma for reducing defects\n",
        "           - Process optimization\n",
        "           - Reliability testing of products\n",
        "\n",
        "\n",
        "    \n",
        "                    \n",
        "               \n",
        "\n",
        "\n",
        "\n",
        "\n",
        "\n",
        "\n",
        "\n",
        "\n",
        "\n",
        "\n",
        "\n",
        "\n",
        "\n",
        "\n",
        "\n",
        "\n",
        "\n",
        "\n",
        "\n",
        "\n",
        "\n",
        "\n"
      ],
      "metadata": {
        "id": "7vmoYu9KK4GV"
      }
    },
    {
      "cell_type": "markdown",
      "source": [
        "# **Practical Questions**"
      ],
      "metadata": {
        "id": "pfI9jSrjY4rz"
      }
    },
    {
      "cell_type": "code",
      "source": [
        "# 1. How do you calculate the mean, median, and mode of a dataset?\n",
        "import pandas as pd\n",
        "import numpy as np\n",
        "\n",
        "df = {\"Age\": [10,20,30,29,39,18,29,30],\n",
        "      \"Name\": [\"Siya\",\"Piya\",\"Diya\",\"Kiya\",\"Liya\",\"Niya\",\"Tiya\",\"Giya\"]\n",
        "}\n",
        "\n",
        "data = pd.DataFrame(df)\n",
        "mean_age = np.mean(data[\"Age\"])\n",
        "print(mean_age)\n",
        "median_age = np.median(data[\"Age\"])\n",
        "print(median_age)\n",
        "mode_age = data[\"Age\"].mode()\n",
        "print(mode_age)"
      ],
      "metadata": {
        "colab": {
          "base_uri": "https://localhost:8080/"
        },
        "id": "f__YRAW5Y0H_",
        "outputId": "d171531e-c199-4264-df62-a7b72dd8ddf8"
      },
      "execution_count": null,
      "outputs": [
        {
          "output_type": "stream",
          "name": "stdout",
          "text": [
            "25.625\n",
            "29.0\n",
            "0    29\n",
            "1    30\n",
            "Name: Age, dtype: int64\n"
          ]
        }
      ]
    },
    {
      "cell_type": "code",
      "source": [
        "# 2. Write a Python program to compute the variance and standard deviation of a dataset.\n",
        "import numpy as np\n",
        "import pandas as pd\n",
        "\n",
        "df = {\"Age\": [10,20,30,29,39,18,29,30],\n",
        "      \"Name\": [\"Siya\",\"Piya\",\"Diya\",\"Kiya\",\"Liya\",\"Niya\",\"Tiya\",\"Giya\"]\n",
        "}\n",
        "\n",
        "variance_age = np.var(data[\"Age\"])\n",
        "print(variance_age)\n",
        "std_age = np.std(data[\"Age\"])\n",
        "print(std_age)"
      ],
      "metadata": {
        "colab": {
          "base_uri": "https://localhost:8080/"
        },
        "id": "fdJ26v-Jbun7",
        "outputId": "c96a3fdb-5302-4560-e89f-837c73d67b16"
      },
      "execution_count": null,
      "outputs": [
        {
          "output_type": "stream",
          "name": "stdout",
          "text": [
            "71.734375\n",
            "8.469614808242461\n"
          ]
        }
      ]
    },
    {
      "cell_type": "code",
      "source": [
        "# 3. Create a dataset and classify it into nominal, ordinal, interval, and ratio types.\n",
        "import numpy as np\n",
        "import pandas as pd\n",
        "\n",
        "df = {\"Age\": [10,20,30,29,39,18],\n",
        "      \"Name\": [\"Siya\",\"Piya\",\"Diya\",\"Kiya\",\"Liya\",\"Niya\"],\n",
        "      \"Grade\":[\"1st\",\"2nd\",\"3rd\",\"4th\",\"5th\",\"6th\"],\n",
        "      \"PD\": [36.6, 37.0, 36.8, 36.9, 37.1,37.5]\n",
        "}\n",
        "data=pd.DataFrame(df)\n",
        "Grade_order = [\"1st\",\"2nd\",\"3rd\",\"4th\",\"5th\",\"6th\"]\n",
        "data[\"Grade\"] = pd.Categorical(data[\"Grade\"], categories=Grade_order, ordered=True)\n",
        "data.dtypes"
      ],
      "metadata": {
        "id": "nDH2mDe5e_QP",
        "colab": {
          "base_uri": "https://localhost:8080/",
          "height": 209
        },
        "outputId": "4fd3b20f-4db2-4eec-94ed-ed6621f48f17"
      },
      "execution_count": null,
      "outputs": [
        {
          "output_type": "execute_result",
          "data": {
            "text/plain": [
              "Age         int64\n",
              "Name       object\n",
              "Grade    category\n",
              "PD        float64\n",
              "dtype: object"
            ],
            "text/html": [
              "<div>\n",
              "<style scoped>\n",
              "    .dataframe tbody tr th:only-of-type {\n",
              "        vertical-align: middle;\n",
              "    }\n",
              "\n",
              "    .dataframe tbody tr th {\n",
              "        vertical-align: top;\n",
              "    }\n",
              "\n",
              "    .dataframe thead th {\n",
              "        text-align: right;\n",
              "    }\n",
              "</style>\n",
              "<table border=\"1\" class=\"dataframe\">\n",
              "  <thead>\n",
              "    <tr style=\"text-align: right;\">\n",
              "      <th></th>\n",
              "      <th>0</th>\n",
              "    </tr>\n",
              "  </thead>\n",
              "  <tbody>\n",
              "    <tr>\n",
              "      <th>Age</th>\n",
              "      <td>int64</td>\n",
              "    </tr>\n",
              "    <tr>\n",
              "      <th>Name</th>\n",
              "      <td>object</td>\n",
              "    </tr>\n",
              "    <tr>\n",
              "      <th>Grade</th>\n",
              "      <td>category</td>\n",
              "    </tr>\n",
              "    <tr>\n",
              "      <th>PD</th>\n",
              "      <td>float64</td>\n",
              "    </tr>\n",
              "  </tbody>\n",
              "</table>\n",
              "</div><br><label><b>dtype:</b> object</label>"
            ]
          },
          "metadata": {},
          "execution_count": 5
        }
      ]
    },
    {
      "cell_type": "code",
      "source": [
        "# 4. Implement sampling techniques like random sampling and stratified sampling.\n",
        "import pandas as pd\n",
        "import numpy as np\n",
        "from sklearn.model_selection import train_test_split\n",
        "\n",
        "\n",
        "data = {\"Age\": [10,20,30,40,70,80,50,60],\n",
        "      \"Name\": [\"Siya\",\"Piya\",\"Diya\",\"Kiya\",\"Liya\",\"Niya\",\"Tiya\",\"Giya\"]\n",
        "}\n",
        "\n",
        "df = pd.DataFrame(df)\n",
        "# Random Sampling\n",
        "random_sample = df.sample(n=5, random_state=42)\n",
        "print(random_sample)\n",
        "\n",
        "# # Stratified Sampling\n",
        "df[\"AgeGroup\"] = pd.cut(df[\"Age\"], bins=[0, 30, 60, 100], labels=[\"Young\", \"Middle\", \"Senior\"])\n",
        "sample, _ = train_test_split(df, test_size=0.5, stratify=df[\"AgeGroup\"], random_state=1)\n",
        "print(sample)"
      ],
      "metadata": {
        "id": "nMPgH2kfKy3o",
        "colab": {
          "base_uri": "https://localhost:8080/"
        },
        "outputId": "9b6ae694-3bdd-44b8-88b6-fb4dea58ca37"
      },
      "execution_count": null,
      "outputs": [
        {
          "output_type": "stream",
          "name": "stdout",
          "text": [
            "   Age  Name\n",
            "1   20  Piya\n",
            "5   80  Niya\n",
            "0   10  Siya\n",
            "7   60  Giya\n",
            "2   30  Diya\n",
            "   Age  Name AgeGroup\n",
            "0   10  Siya    Young\n",
            "4   70  Liya   Senior\n",
            "6   50  Tiya   Middle\n",
            "7   60  Giya   Middle\n"
          ]
        }
      ]
    },
    {
      "cell_type": "code",
      "source": [
        "# 5. Write a Python function to calculate the range of a dataset.\n",
        "df = pd.DataFrame({\"Age\": [10,20,30,29,39,18,29,30]})\n",
        "\n",
        "range = df[\"Age\"].max() - df[\"Age\"].min()\n",
        "print(range)"
      ],
      "metadata": {
        "colab": {
          "base_uri": "https://localhost:8080/"
        },
        "id": "BjHLsirHiCZ5",
        "outputId": "a0803510-fb40-4084-9f94-083aa71c028f"
      },
      "execution_count": null,
      "outputs": [
        {
          "output_type": "stream",
          "name": "stdout",
          "text": [
            "29\n"
          ]
        }
      ]
    },
    {
      "cell_type": "code",
      "source": [
        "# 6. Create a dataset and plot its histogram to visualize skewness.\n",
        "import pandas as pd\n",
        "import seaborn as sns\n",
        "import matplotlib.pyplot as plt\n",
        "\n",
        "df = pd.DataFrame({\"Age\": [10,20,30,29,39,18,29,30]})\n",
        "\n",
        "sns.histplot(df[\"Age\"], bins=10, kde=True, color=\"orange\")\n",
        "plt.title(\"Histogram of Age\")\n",
        "plt.show()"
      ],
      "metadata": {
        "colab": {
          "base_uri": "https://localhost:8080/",
          "height": 472
        },
        "id": "v8noz1nogw4u",
        "outputId": "e3b2249b-ec14-4ae1-8947-cde04d8387e6"
      },
      "execution_count": null,
      "outputs": [
        {
          "output_type": "display_data",
          "data": {
            "text/plain": [
              "<Figure size 640x480 with 1 Axes>"
            ],
            "image/png": "[encoded data removed]"
          },
          "metadata": {}
        }
      ]
    },
    {
      "cell_type": "code",
      "source": [
        "# 7. Calculate skewness and kurtosis of a dataset using Python libraries.\n",
        "import pandas as pd\n",
        "from scipy.stats import skew, kurtosis\n",
        "\n",
        "df = {\"Age\": [10,20,30,29,39,18,29,30],\n",
        "      \"Name\": [\"Siya\",\"Piya\",\"Diya\",\"Kiya\",\"Liya\",\"Niya\",\"Tiya\",\"Giya\"]\n",
        "}\n",
        "\n",
        "data = pd.DataFrame(df)\n",
        "data_skew = skew(data[\"Age\"])\n",
        "print(\"Skewness is: \", data_skew)\n",
        "data_kurtosis = kurtosis(data[\"Age\"])\n",
        "print(\"Kurtosis is: \", data_kurtosis)"
      ],
      "metadata": {
        "colab": {
          "base_uri": "https://localhost:8080/"
        },
        "id": "EPWv3UAtdDFQ",
        "outputId": "9c2491f5-b9e4-483c-f43b-9df59dd3fe2d"
      },
      "execution_count": null,
      "outputs": [
        {
          "output_type": "stream",
          "name": "stdout",
          "text": [
            "Skewness is:  -0.37012008572915556\n",
            "Kurtosis is:  -0.6442002647305407\n"
          ]
        }
      ]
    },
    {
      "cell_type": "code",
      "source": [
        "# 8. Generate a dataset and demonstrate positive and negative skewness.\n",
        "import pandas as pd\n",
        "import matplotlib.pyplot as plt\n",
        "import seaborn as sns\n",
        "\n",
        "positive_data = [1, 1, 2, 2, 3, 4, 5, 10, 20, 30, 50]\n",
        "negative_data = [50, 50, 40, 40, 30, 30, 25, 20, 10, 5, 1]\n",
        "\n",
        "df = pd.DataFrame({\"Positive_Skew\": positive_data,\n",
        "\"Negative_Skew\": negative_data})\n",
        "\n",
        "plt.figure(figsize=(10,5))\n",
        "plt.subplot(1,2,1)\n",
        "sns.histplot(df[\"Positive_Skew\"], bins=10, kde=True, color=\"orange\")\n",
        "plt.title(\"Positive Skewed Data\")\n",
        "plt.subplot(1,2,2)\n",
        "sns.histplot(df[\"Negative_Skew\"], bins=10, kde=True, color=\"blue\")\n",
        "plt.title(\"Negative Skewed Data\")\n",
        "plt.tight_layout()\n",
        "plt.show()"
      ],
      "metadata": {
        "colab": {
          "base_uri": "https://localhost:8080/",
          "height": 507
        },
        "id": "fnm3I7IxxE_I",
        "outputId": "f3748777-4b20-4e1a-9ae1-3edd53998fb9"
      },
      "execution_count": null,
      "outputs": [
        {
          "output_type": "display_data",
          "data": {
            "text/plain": [
              "<Figure size 1000x500 with 2 Axes>"
            ],
            "image/png": "[encoded data removed]"
          },
          "metadata": {}
        }
      ]
    },
    {
      "cell_type": "code",
      "source": [
        "# 9. Write a Python script to calculate covariance between two datasets.\n",
        "import pandas as pd\n",
        "\n",
        "df1 = pd.DataFrame({\"Score\": [300,200,500,600,700]})\n",
        "df2 = pd.DataFrame({\"PD\": [0.8,0.9,0.6,0.4,0.3]})\n",
        "\n",
        "covariance_matrix =  df1[\"Score\"].cov(df2[\"PD\"])\n",
        "print(covariance_matrix)"
      ],
      "metadata": {
        "colab": {
          "base_uri": "https://localhost:8080/"
        },
        "id": "TiNLz9gVwbYA",
        "outputId": "7e0f7f54-a340-497a-c374-b804830b0b84"
      },
      "execution_count": null,
      "outputs": [
        {
          "output_type": "stream",
          "name": "stdout",
          "text": [
            "-52.50000000000001\n"
          ]
        }
      ]
    },
    {
      "cell_type": "code",
      "source": [
        "# 10. Write a Python script to calculate the correlation coefficient between two datasets.\n",
        "import pandas as pd\n",
        "\n",
        "df1 = pd.DataFrame({\"Score\": [300,200,500,600,700]})\n",
        "df2 = pd.DataFrame({\"PD\": [0.8,0.9,0.6,0.4,0.3]})\n",
        "\n",
        "correlation_matrix =  df1[\"Score\"].corr(df2[\"PD\"])\n",
        "print(correlation_matrix)"
      ],
      "metadata": {
        "colab": {
          "base_uri": "https://localhost:8080/"
        },
        "id": "mWf0l00Ytfg4",
        "outputId": "8ff7dd35-6bce-4486-f8c3-f6e10b02034f"
      },
      "execution_count": null,
      "outputs": [
        {
          "output_type": "stream",
          "name": "stdout",
          "text": [
            "-0.993043784063014\n"
          ]
        }
      ]
    },
    {
      "cell_type": "code",
      "source": [
        "# 11. Create a scatter plot to visualize the relationship between two variables.\n",
        "import pandas as pd\n",
        "import matplotlib.pyplot as plt\n",
        "\n",
        "df = pd.DataFrame({\"Score\": [300,200,500,600,700],\n",
        "                 \"PD\": [0.8,0.9,0.6,0.4,0.3]})\n",
        "plt.scatter(df[\"Score\"], df[\"PD\"])\n",
        "plt.xlabel(\"Score\")\n",
        "plt.ylabel(\"PD\")\n",
        "plt.title(\"PD by Score Relationship\")\n",
        "plt.show()"
      ],
      "metadata": {
        "colab": {
          "base_uri": "https://localhost:8080/",
          "height": 472
        },
        "id": "yjbs1-J8rd66",
        "outputId": "31322451-875b-4a6e-e0da-910fd7c4ab7f"
      },
      "execution_count": null,
      "outputs": [
        {
          "output_type": "display_data",
          "data": {
            "text/plain": [
              "<Figure size 640x480 with 1 Axes>"
            ],
            "image/png": "[encoded data removed]"
          },
          "metadata": {}
        }
      ]
    },
    {
      "cell_type": "code",
      "source": [
        "# 12. Implement and compare simple random sampling and systematic sampling.\n",
        "import pandas as pd\n",
        "import numpy as np\n",
        "\n",
        "# Random Sampling\n",
        "np.random.seed(42)\n",
        "df = pd.DataFrame({\"ID\": range(1,51), \"Value\": np.random.randint(1,50,50)})\n",
        "random_sample = df.sample(n=20, random_state=42)\n",
        "print(random_sample)\n",
        "\n",
        "# Systematic Sampling\n",
        "k = len(df) // 20\n",
        "systematic_sample = df.iloc[::k][:20]\n",
        "print(systematic_sample)"
      ],
      "metadata": {
        "colab": {
          "base_uri": "https://localhost:8080/"
        },
        "id": "XMsVcp-BnKZk",
        "outputId": "71812a01-8497-4cb1-b776-9bdca6f62043"
      },
      "execution_count": null,
      "outputs": [
        {
          "output_type": "stream",
          "name": "stdout",
          "text": [
            "    ID  Value\n",
            "13  14     40\n",
            "39  40      7\n",
            "30  31     27\n",
            "45  46     25\n",
            "17  18      2\n",
            "48  49     26\n",
            "26  27     22\n",
            "25  26     12\n",
            "32  33     28\n",
            "19  20     44\n",
            "12  13     36\n",
            "4    5      8\n",
            "37  38      3\n",
            "8    9     23\n",
            "3    4     43\n",
            "6    7     39\n",
            "41  42      9\n",
            "46  47     14\n",
            "47  48      9\n",
            "15  16      3\n",
            "    ID  Value\n",
            "0    1     39\n",
            "2    3     15\n",
            "4    5      8\n",
            "6    7     39\n",
            "8    9     23\n",
            "10  11     11\n",
            "12  13     36\n",
            "14  15     24\n",
            "16  17     22\n",
            "18  19     24\n",
            "20  21     30\n",
            "22  23      2\n",
            "24  25     33\n",
            "26  27     22\n",
            "28  29     25\n",
            "30  31     27\n",
            "32  33     28\n",
            "34  35     15\n",
            "36  37     44\n",
            "38  39     37\n"
          ]
        }
      ]
    },
    {
      "cell_type": "code",
      "source": [
        "# 13. Calculate the mean, median, and mode of grouped data.\n",
        "import numpy as np\n",
        "import pandas as pd\n",
        "from scipy.stats import mode\n",
        "\n",
        "df = pd.DataFrame({'Value': [12, 17, 22, 25, 29, 34, 36, 38, 41, 45]})\n",
        "bins = [10,20,30,40,50]\n",
        "labels = [\"10-20\",\"20-30\",\"30-40\",\"40-50\"]\n",
        "df[\"Group\"] = pd.cut(df['Value'], bins=bins, labels=labels, right=False)\n",
        "grouped_data = df.groupby('Group',observed=False)[\"Value\"].agg(['mean','median'])\n",
        "print(grouped_data)\n",
        "mode_value = mode(df[\"Value\"])\n",
        "print(mode_value)"
      ],
      "metadata": {
        "colab": {
          "base_uri": "https://localhost:8080/"
        },
        "id": "wXFMCodVUJ-I",
        "outputId": "4fe34cf1-1d80-413a-c942-56c4873afa44"
      },
      "execution_count": null,
      "outputs": [
        {
          "output_type": "stream",
          "name": "stdout",
          "text": [
            "            mean  median\n",
            "Group                   \n",
            "10-20  14.500000    14.5\n",
            "20-30  25.333333    25.0\n",
            "30-40  36.000000    36.0\n",
            "40-50  43.000000    43.0\n",
            "ModeResult(mode=np.int64(12), count=np.int64(1))\n"
          ]
        }
      ]
    },
    {
      "cell_type": "code",
      "source": [
        "# 14. Simulate data using Python and calculate its central tendency and dispersion.\n",
        "import pandas as pd\n",
        "from scipy import stats\n",
        "\n",
        "df = {\"Age\": [10,20,50,40,60,50,99],\n",
        "      \"Name\": [\"Tiya\",\"Piya\",\"Kiya\",\"Liya\",\"Niya\",\"Siya\",\"Diya\"],\n",
        "      \"Marks\": [80,99,40,50,69,79,88]}\n",
        "data = pd.DataFrame(df)\n",
        "\n",
        "mean_value = data[[\"Age\",\"Marks\"]].mean()\n",
        "print(\"Mean value :\", mean_value)\n",
        "median_value = data[[\"Age\",\"Marks\"]].median()\n",
        "print(\"Median value :\",median_value)\n",
        "std_dev_value = data[[\"Age\",\"Marks\"]].std()\n",
        "print(\"Std_Dev value :\",std_dev_value)\n",
        "var_value = data[[\"Age\",\"Marks\"]].var()\n",
        "print(\"Var value :\",var_value)\n",
        "mode_value = stats.mode(data[[\"Age\",\"Marks\"]])\n",
        "print(\"Mode value :\",mode_value)\n",
        "range_value = data[[\"Age\",\"Marks\"]].max() - data[[\"Age\",\"Marks\"]].min()\n",
        "print(\"Range value :\",range_value)\n",
        "iqr = stats.iqr(data[[\"Age\",\"Marks\"]])\n",
        "print(\"IQR value :\",iqr)"
      ],
      "metadata": {
        "colab": {
          "base_uri": "https://localhost:8080/"
        },
        "id": "FenGFfHGJKKO",
        "outputId": "7d277198-7f81-4f18-8bc9-2ca5fe4f93bb"
      },
      "execution_count": null,
      "outputs": [
        {
          "output_type": "stream",
          "name": "stdout",
          "text": [
            "Mean value : Age      47.000000\n",
            "Marks    72.142857\n",
            "dtype: float64\n",
            "Median value : Age      50.0\n",
            "Marks    79.0\n",
            "dtype: float64\n",
            "Std_Dev value : Age      28.977002\n",
            "Marks    20.876051\n",
            "dtype: float64\n",
            "Var value : Age      839.666667\n",
            "Marks    435.809524\n",
            "dtype: float64\n",
            "Mode value : ModeResult(mode=array([50, 40]), count=array([2, 1]))\n",
            "Range value : Age      89\n",
            "Marks    59\n",
            "dtype: int64\n",
            "IQR value : 37.25\n"
          ]
        }
      ]
    },
    {
      "cell_type": "code",
      "source": [
        "# 15. Use NumPy or pandas to summarize a dataset’s descriptive statistics.\n",
        "import pandas as pd\n",
        "\n",
        "df = {\"Age\": [10,20,50,40,60,50,99],\n",
        "      \"Name\": [\"Tiya\",\"Piya\",\"Kiya\",\"Liya\",\"Niya\",\"Siya\",\"Diya\"],\n",
        "      \"Marks\": [80,99,40,50,69,79,88]}\n",
        "data = pd.DataFrame(df)\n",
        "data.describe()"
      ],
      "metadata": {
        "colab": {
          "base_uri": "https://localhost:8080/",
          "height": 300
        },
        "id": "kBJ41sSGELf2",
        "outputId": "516fe36f-758d-4f93-fe38-d8802e13fb3d"
      },
      "execution_count": null,
      "outputs": [
        {
          "output_type": "execute_result",
          "data": {
            "text/plain": [
              "             Age      Marks\n",
              "count   7.000000   7.000000\n",
              "mean   47.000000  72.142857\n",
              "std    28.977002  20.876051\n",
              "min    10.000000  40.000000\n",
              "25%    30.000000  59.500000\n",
              "50%    50.000000  79.000000\n",
              "75%    55.000000  84.000000\n",
              "max    99.000000  99.000000"
            ],
            "text/html": [
              "\n",
              "  <div id=\"df-ec833904-e3b7-44fe-a1f8-fd6f26d9fcf5\" class=\"colab-df-container\">\n",
              "    <div>\n",
              "<style scoped>\n",
              "    .dataframe tbody tr th:only-of-type {\n",
              "        vertical-align: middle;\n",
              "    }\n",
              "\n",
              "    .dataframe tbody tr th {\n",
              "        vertical-align: top;\n",
              "    }\n",
              "\n",
              "    .dataframe thead th {\n",
              "        text-align: right;\n",
              "    }\n",
              "</style>\n",
              "<table border=\"1\" class=\"dataframe\">\n",
              "  <thead>\n",
              "    <tr style=\"text-align: right;\">\n",
              "      <th></th>\n",
              "      <th>Age</th>\n",
              "      <th>Marks</th>\n",
              "    </tr>\n",
              "  </thead>\n",
              "  <tbody>\n",
              "    <tr>\n",
              "      <th>count</th>\n",
              "      <td>7.000000</td>\n",
              "      <td>7.000000</td>\n",
              "    </tr>\n",
              "    <tr>\n",
              "      <th>mean</th>\n",
              "      <td>47.000000</td>\n",
              "      <td>72.142857</td>\n",
              "    </tr>\n",
              "    <tr>\n",
              "      <th>std</th>\n",
              "      <td>28.977002</td>\n",
              "      <td>20.876051</td>\n",
              "    </tr>\n",
              "    <tr>\n",
              "      <th>min</th>\n",
              "      <td>10.000000</td>\n",
              "      <td>40.000000</td>\n",
              "    </tr>\n",
              "    <tr>\n",
              "      <th>25%</th>\n",
              "      <td>30.000000</td>\n",
              "      <td>59.500000</td>\n",
              "    </tr>\n",
              "    <tr>\n",
              "      <th>50%</th>\n",
              "      <td>50.000000</td>\n",
              "      <td>79.000000</td>\n",
              "    </tr>\n",
              "    <tr>\n",
              "      <th>75%</th>\n",
              "      <td>55.000000</td>\n",
              "      <td>84.000000</td>\n",
              "    </tr>\n",
              "    <tr>\n",
              "      <th>max</th>\n",
              "      <td>99.000000</td>\n",
              "      <td>99.000000</td>\n",
              "    </tr>\n",
              "  </tbody>\n",
              "</table>\n",
              "</div>\n",
              "    <div class=\"colab-df-buttons\">\n",
              "\n",
              "  <div class=\"colab-df-container\">\n",
              "    <button class=\"colab-df-convert\" onclick=\"convertToInteractive('df-ec833904-e3b7-44fe-a1f8-fd6f26d9fcf5')\"\n",
              "            title=\"Convert this dataframe to an interactive table.\"\n",
              "            style=\"display:none;\">\n",
              "\n",
              "  <svg xmlns=\"http://www.w3.org/2000/svg\" height=\"24px\" viewBox=\"0 -960 960 960\">\n",
              "    <path d=\"M120-120v-720h720v720H120Zm60-500h600v-160H180v160Zm220 220h160v-160H400v160Zm0 220h160v-160H400v160ZM180-400h160v-160H180v160Zm440 0h160v-160H620v160ZM180-180h160v-160H180v160Zm440 0h160v-160H620v160Z\"/>\n",
              "  </svg>\n",
              "    </button>\n",
              "\n",
              "  <style>\n",
              "    .colab-df-container {\n",
              "      display:flex;\n",
              "      gap: 12px;\n",
              "    }\n",
              "\n",
              "    .colab-df-convert {\n",
              "      background-color: #E8F0FE;\n",
              "      border: none;\n",
              "      border-radius: 50%;\n",
              "      cursor: pointer;\n",
              "      display: none;\n",
              "      fill: #1967D2;\n",
              "      height: 32px;\n",
              "      padding: 0 0 0 0;\n",
              "      width: 32px;\n",
              "    }\n",
              "\n",
              "    .colab-df-convert:hover {\n",
              "      background-color: #E2EBFA;\n",
              "      box-shadow: 0px 1px 2px rgba(60, 64, 67, 0.3), 0px 1px 3px 1px rgba(60, 64, 67, 0.15);\n",
              "      fill: #174EA6;\n",
              "    }\n",
              "\n",
              "    .colab-df-buttons div {\n",
              "      margin-bottom: 4px;\n",
              "    }\n",
              "\n",
              "    [theme=dark] .colab-df-convert {\n",
              "      background-color: #3B4455;\n",
              "      fill: #D2E3FC;\n",
              "    }\n",
              "\n",
              "    [theme=dark] .colab-df-convert:hover {\n",
              "      background-color: #434B5C;\n",
              "      box-shadow: 0px 1px 3px 1px rgba(0, 0, 0, 0.15);\n",
              "      filter: drop-shadow(0px 1px 2px rgba(0, 0, 0, 0.3));\n",
              "      fill: #FFFFFF;\n",
              "    }\n",
              "  </style>\n",
              "\n",
              "    <script>\n",
              "      const buttonEl =\n",
              "        document.querySelector('#df-ec833904-e3b7-44fe-a1f8-fd6f26d9fcf5 button.colab-df-convert');\n",
              "      buttonEl.style.display =\n",
              "        google.colab.kernel.accessAllowed ? 'block' : 'none';\n",
              "\n",
              "      async function convertToInteractive(key) {\n",
              "        const element = document.querySelector('#df-ec833904-e3b7-44fe-a1f8-fd6f26d9fcf5');\n",
              "        const dataTable =\n",
              "          await google.colab.kernel.invokeFunction('convertToInteractive',\n",
              "                                                    [key], {});\n",
              "        if (!dataTable) return;\n",
              "\n",
              "        const docLinkHtml = 'Like what you see? Visit the ' +\n",
              "          '<a target=\"_blank\" href=https://colab.research.google.com/notebooks/data_table.ipynb>data table notebook</a>'\n",
              "          + ' to learn more about interactive tables.';\n",
              "        element.innerHTML = '';\n",
              "        dataTable['output_type'] = 'display_data';\n",
              "        await google.colab.output.renderOutput(dataTable, element);\n",
              "        const docLink = document.createElement('div');\n",
              "        docLink.innerHTML = docLinkHtml;\n",
              "        element.appendChild(docLink);\n",
              "      }\n",
              "    </script>\n",
              "  </div>\n",
              "\n",
              "\n",
              "    <div id=\"df-7286cd90-5392-4688-8bde-3ab7b03e3155\">\n",
              "      <button class=\"colab-df-quickchart\" onclick=\"quickchart('df-7286cd90-5392-4688-8bde-3ab7b03e3155')\"\n",
              "                title=\"Suggest charts\"\n",
              "                style=\"display:none;\">\n",
              "\n",
              "<svg xmlns=\"http://www.w3.org/2000/svg\" height=\"24px\"viewBox=\"0 0 24 24\"\n",
              "     width=\"24px\">\n",
              "    <g>\n",
              "        <path d=\"M19 3H5c-1.1 0-2 .9-2 2v14c0 1.1.9 2 2 2h14c1.1 0 2-.9 2-2V5c0-1.1-.9-2-2-2zM9 17H7v-7h2v7zm4 0h-2V7h2v10zm4 0h-2v-4h2v4z\"/>\n",
              "    </g>\n",
              "</svg>\n",
              "      </button>\n",
              "\n",
              "<style>\n",
              "  .colab-df-quickchart {\n",
              "      --bg-color: #E8F0FE;\n",
              "      --fill-color: #1967D2;\n",
              "      --hover-bg-color: #E2EBFA;\n",
              "      --hover-fill-color: #174EA6;\n",
              "      --disabled-fill-color: #AAA;\n",
              "      --disabled-bg-color: #DDD;\n",
              "  }\n",
              "\n",
              "  [theme=dark] .colab-df-quickchart {\n",
              "      --bg-color: #3B4455;\n",
              "      --fill-color: #D2E3FC;\n",
              "      --hover-bg-color: #434B5C;\n",
              "      --hover-fill-color: #FFFFFF;\n",
              "      --disabled-bg-color: #3B4455;\n",
              "      --disabled-fill-color: #666;\n",
              "  }\n",
              "\n",
              "  .colab-df-quickchart {\n",
              "    background-color: var(--bg-color);\n",
              "    border: none;\n",
              "    border-radius: 50%;\n",
              "    cursor: pointer;\n",
              "    display: none;\n",
              "    fill: var(--fill-color);\n",
              "    height: 32px;\n",
              "    padding: 0;\n",
              "    width: 32px;\n",
              "  }\n",
              "\n",
              "  .colab-df-quickchart:hover {\n",
              "    background-color: var(--hover-bg-color);\n",
              "    box-shadow: 0 1px 2px rgba(60, 64, 67, 0.3), 0 1px 3px 1px rgba(60, 64, 67, 0.15);\n",
              "    fill: var(--button-hover-fill-color);\n",
              "  }\n",
              "\n",
              "  .colab-df-quickchart-complete:disabled,\n",
              "  .colab-df-quickchart-complete:disabled:hover {\n",
              "    background-color: var(--disabled-bg-color);\n",
              "    fill: var(--disabled-fill-color);\n",
              "    box-shadow: none;\n",
              "  }\n",
              "\n",
              "  .colab-df-spinner {\n",
              "    border: 2px solid var(--fill-color);\n",
              "    border-color: transparent;\n",
              "    border-bottom-color: var(--fill-color);\n",
              "    animation:\n",
              "      spin 1s steps(1) infinite;\n",
              "  }\n",
              "\n",
              "  @keyframes spin {\n",
              "    0% {\n",
              "      border-color: transparent;\n",
              "      border-bottom-color: var(--fill-color);\n",
              "      border-left-color: var(--fill-color);\n",
              "    }\n",
              "    20% {\n",
              "      border-color: transparent;\n",
              "      border-left-color: var(--fill-color);\n",
              "      border-top-color: var(--fill-color);\n",
              "    }\n",
              "    30% {\n",
              "      border-color: transparent;\n",
              "      border-left-color: var(--fill-color);\n",
              "      border-top-color: var(--fill-color);\n",
              "      border-right-color: var(--fill-color);\n",
              "    }\n",
              "    40% {\n",
              "      border-color: transparent;\n",
              "      border-right-color: var(--fill-color);\n",
              "      border-top-color: var(--fill-color);\n",
              "    }\n",
              "    60% {\n",
              "      border-color: transparent;\n",
              "      border-right-color: var(--fill-color);\n",
              "    }\n",
              "    80% {\n",
              "      border-color: transparent;\n",
              "      border-right-color: var(--fill-color);\n",
              "      border-bottom-color: var(--fill-color);\n",
              "    }\n",
              "    90% {\n",
              "      border-color: transparent;\n",
              "      border-bottom-color: var(--fill-color);\n",
              "    }\n",
              "  }\n",
              "</style>\n",
              "\n",
              "      <script>\n",
              "        async function quickchart(key) {\n",
              "          const quickchartButtonEl =\n",
              "            document.querySelector('#' + key + ' button');\n",
              "          quickchartButtonEl.disabled = true;  // To prevent multiple clicks.\n",
              "          quickchartButtonEl.classList.add('colab-df-spinner');\n",
              "          try {\n",
              "            const charts = await google.colab.kernel.invokeFunction(\n",
              "                'suggestCharts', [key], {});\n",
              "          } catch (error) {\n",
              "            console.error('Error during call to suggestCharts:', error);\n",
              "          }\n",
              "          quickchartButtonEl.classList.remove('colab-df-spinner');\n",
              "          quickchartButtonEl.classList.add('colab-df-quickchart-complete');\n",
              "        }\n",
              "        (() => {\n",
              "          let quickchartButtonEl =\n",
              "            document.querySelector('#df-7286cd90-5392-4688-8bde-3ab7b03e3155 button');\n",
              "          quickchartButtonEl.style.display =\n",
              "            google.colab.kernel.accessAllowed ? 'block' : 'none';\n",
              "        })();\n",
              "      </script>\n",
              "    </div>\n",
              "\n",
              "    </div>\n",
              "  </div>\n"
            ],
            "application/vnd.google.colaboratory.intrinsic+json": {
              "type": "dataframe",
              "summary": "{\n  \"name\": \"data\",\n  \"rows\": 8,\n  \"fields\": [\n    {\n      \"column\": \"Age\",\n      \"properties\": {\n        \"dtype\": \"number\",\n        \"std\": 29.421619010425758,\n        \"min\": 7.0,\n        \"max\": 99.0,\n        \"num_unique_values\": 8,\n        \"samples\": [\n          47.0,\n          50.0,\n          7.0\n        ],\n        \"semantic_type\": \"\",\n        \"description\": \"\"\n      }\n    },\n    {\n      \"column\": \"Marks\",\n      \"properties\": {\n        \"dtype\": \"number\",\n        \"std\": 32.29924476753761,\n        \"min\": 7.0,\n        \"max\": 99.0,\n        \"num_unique_values\": 8,\n        \"samples\": [\n          72.14285714285714,\n          79.0,\n          7.0\n        ],\n        \"semantic_type\": \"\",\n        \"description\": \"\"\n      }\n    }\n  ]\n}"
            }
          },
          "metadata": {},
          "execution_count": 10
        }
      ]
    },
    {
      "cell_type": "code",
      "source": [
        "# 16. Plot a boxplot to understand the spread and identify outliers.\n",
        "import pandas as pd\n",
        "import seaborn as sns\n",
        "import matplotlib.pyplot as plt\n",
        "\n",
        "df = {\"Age\": [10,20,30,29,39,18,29,100],\n",
        "      \"Name\": [\"Siya\",\"Piya\",\"Diya\",\"Kiya\",\"Liya\",\"Niya\",\"Tiya\",\"Giya\"]\n",
        "}\n",
        "data = pd.DataFrame(df)\n",
        "sns.boxplot(data=data)\n",
        "plt.show()"
      ],
      "metadata": {
        "colab": {
          "base_uri": "https://localhost:8080/",
          "height": 430
        },
        "id": "Swu5K44hDCLw",
        "outputId": "65d0bfea-b549-4a57-c1c9-51f49c22e410"
      },
      "execution_count": null,
      "outputs": [
        {
          "output_type": "display_data",
          "data": {
            "text/plain": [
              "<Figure size 640x480 with 1 Axes>"
            ],
            "image/png": "[encoded data removed]"
          },
          "metadata": {}
        }
      ]
    },
    {
      "cell_type": "code",
      "source": [
        "# 17. Calculate the interquartile range (IQR) of a dataset.\n",
        "import pandas as pd\n",
        "df = pd.DataFrame({\"Age\": [20,25,27,28,29,30]})\n",
        "IQR = df[\"Age\"].quantile(0.75) - df[\"Age\"].quantile(0.25)\n",
        "print(IQR)"
      ],
      "metadata": {
        "colab": {
          "base_uri": "https://localhost:8080/"
        },
        "id": "9c2oiN-H-1FH",
        "outputId": "331db3e0-262c-48d8-a3a3-54ac097c01d0"
      },
      "execution_count": null,
      "outputs": [
        {
          "output_type": "stream",
          "name": "stdout",
          "text": [
            "3.25\n"
          ]
        }
      ]
    },
    {
      "cell_type": "code",
      "source": [
        "# 18. Implement Z-score normalization and explain its significance.\n",
        "import pandas as pd\n",
        "from scipy.stats import zscore\n",
        "\n",
        "df = pd.DataFrame({\"Age\": [20,25,228,30,32]})\n",
        "z_score = zscore(df)\n",
        "print(z_score)"
      ],
      "metadata": {
        "colab": {
          "base_uri": "https://localhost:8080/"
        },
        "id": "c7TQ3VO91Jyp",
        "outputId": "930d9585-e39a-4cdd-9ba3-7bfedc716a9a"
      },
      "execution_count": null,
      "outputs": [
        {
          "output_type": "stream",
          "name": "stdout",
          "text": [
            "[[-0.58307091]\n",
            " [-0.52104209]\n",
            " [ 1.997328  ]\n",
            " [-0.45901327]\n",
            " [-0.43420174]]\n"
          ]
        }
      ]
    },
    {
      "cell_type": "code",
      "source": [
        "# 19. Compare two datasets using their standard deviations.\n",
        "import pandas as pd\n",
        "import numpy as np\n",
        "\n",
        "df1 = pd.DataFrame({\"Age1\": [20,29,39,40,55,66,77]})\n",
        "df2 = pd.DataFrame({\"Age2\": [25,29,59,70,88,45,67]})\n",
        "\n",
        "std_dev1 = df1[\"Age1\"].std()\n",
        "std_dev2 = df2[\"Age2\"].std()\n",
        "\n",
        "print(std_dev1)\n",
        "print(std_dev2)"
      ],
      "metadata": {
        "colab": {
          "base_uri": "https://localhost:8080/"
        },
        "id": "nN71MdkRgHBB",
        "outputId": "7bd75d6b-4f22-41e5-ce68-dd4f10565c73"
      },
      "execution_count": null,
      "outputs": [
        {
          "output_type": "stream",
          "name": "stdout",
          "text": [
            "20.370379990377717\n",
            "22.910800114896944\n"
          ]
        }
      ]
    },
    {
      "cell_type": "code",
      "source": [
        "# 20. Write a Python program to visualize covariance using a heatmap.\n",
        "import pandas as pd\n",
        "import numpy as np\n",
        "import seaborn as sns\n",
        "import matplotlib.pyplot as plt\n",
        "\n",
        "data = {\"Science\": [57,89,99,45,58,88,44,55],\n",
        "        \"Math\": [50,60,70,89,70,39,79,55],\n",
        "      \"Name\": [\"Siya\",\"Piya\",\"Diya\",\"Kiya\",\"Liya\",\"Niya\",\"Tiya\",\"Giya\"]\n",
        "}\n",
        "df = pd.DataFrame(data)\n",
        "\n",
        "only_numeric_df = df.select_dtypes(include=[np.number])\n",
        "\n",
        "cov_number = only_numeric_df.cov()\n",
        "plt.figure(figsize=(8,5))\n",
        "sns.heatmap(cov_number, annot=True, cmap=\"coolwarm\", fmt=\".2f\")\n",
        "plt.title(\"covariance Matix\")\n",
        "plt.show()"
      ],
      "metadata": {
        "colab": {
          "base_uri": "https://localhost:8080/",
          "height": 468
        },
        "id": "BMl3lty9esnL",
        "outputId": "19da77e6-dc31-4eea-a36a-e609d6d9bbd0"
      },
      "execution_count": null,
      "outputs": [
        {
          "output_type": "display_data",
          "data": {
            "text/plain": [
              "<Figure size 800x500 with 2 Axes>"
            ],
            "image/png": "[encoded data removed]"
          },
          "metadata": {}
        }
      ]
    },
    {
      "cell_type": "code",
      "source": [
        "# 21. Use seaborn to create a correlation matrix for a dataset.\n",
        "import pandas as pd\n",
        "import seaborn as sns\n",
        "import matplotlib.pyplot as plt\n",
        "\n",
        "data = {\"Science\": [57,89,99,45,58,88,44,55],\n",
        "        \"Math\": [50,60,70,89,70,39,79,55],\n",
        "      \"Name\": [\"Siya\",\"Piya\",\"Diya\",\"Kiya\",\"Liya\",\"Niya\",\"Tiya\",\"Giya\"]\n",
        "}\n",
        "df = pd.DataFrame(data)\n",
        "non_numeric_df = df.drop(columns=[\"Name\"])\n",
        "\n",
        "corr_matrix = non_numeric_df.corr()\n",
        "plt.figure(figsize=(8,6))\n",
        "sns.heatmap(corr_matrix, annot=True, cmap=\"coolwarm\")\n",
        "plt.title(\"Correlation Matrix\")\n",
        "plt.show()"
      ],
      "metadata": {
        "colab": {
          "base_uri": "https://localhost:8080/",
          "height": 545
        },
        "id": "T30fuoAucZQS",
        "outputId": "06e969f8-b2a7-453d-fff1-082105540c45"
      },
      "execution_count": null,
      "outputs": [
        {
          "output_type": "display_data",
          "data": {
            "text/plain": [
              "<Figure size 800x600 with 2 Axes>"
            ],
            "image/png": "[encoded data removed]"
          },
          "metadata": {}
        }
      ]
    },
    {
      "cell_type": "code",
      "source": [
        "# 22. Generate a dataset and implement both variance and standard deviation computations.\n",
        "import pandas as pd\n",
        "import numpy as np\n",
        "np.random.seed(42)\n",
        "data = np.random.randint(50, 100, size=100)\n",
        "df = pd.DataFrame({\"values\": data})\n",
        "variance = df[\"values\"].var()\n",
        "print(variance)\n",
        "std_dev = df[\"values\"].std()\n",
        "print(std_dev)"
      ],
      "metadata": {
        "colab": {
          "base_uri": "https://localhost:8080/"
        },
        "id": "W_G93_0cXWvS",
        "outputId": "68cd26c4-da13-4126-a572-819f6609c618"
      },
      "execution_count": null,
      "outputs": [
        {
          "output_type": "stream",
          "name": "stdout",
          "text": [
            "208.7324242424243\n",
            "14.44757502982505\n"
          ]
        }
      ]
    },
    {
      "cell_type": "code",
      "source": [
        "# 23. Visualize skewness and kurtosis using Python libraries like matplotlib or seaborn.\n",
        "import pandas as pd\n",
        "import numpy as np\n",
        "import seaborn as sns\n",
        "import matplotlib.pyplot as plt\n",
        "from scipy.stats import skew, kurtosis\n",
        "np.random.seed(42)\n",
        "data = np.random.normal(loc=0, scale=1, size=1000)\n",
        "df = pd.DataFrame({\"Values\": data})\n",
        "df.head()\n",
        "\n",
        "sns.histplot(df[\"Values\"], kde=True, bins=30)\n",
        "plt.title(\"Histogram with KDE\")\n",
        "plt.xlabel(\"Values\")\n",
        "plt.ylabel(\"Frequency\")\n",
        "plt.show()\n",
        "\n",
        "data_skew = skew(df[\"Values\"])\n",
        "data_kurt = kurtosis(df[\"Values\"])\n",
        "print(\"Skewness is: \", data_skew)\n",
        "print(\"Kurtosis is: \",data_kurt)\n",
        "\n",
        "plt.figure(figsize=(8,5))\n",
        "sns.histplot(df[\"Values\"], kde=True, bins=30)\n",
        "plt.title(\"Histogram with KDE\")\n",
        "plt.xlabel(\"Values\")\n",
        "plt.ylabel(\"Frequency\")\n",
        "plt.show()"
      ],
      "metadata": {
        "colab": {
          "base_uri": "https://localhost:8080/",
          "height": 978
        },
        "id": "s0YGYkD6UKPE",
        "outputId": "a3fe312f-67af-4486-c3c1-56bb2496e553"
      },
      "execution_count": null,
      "outputs": [
        {
          "output_type": "display_data",
          "data": {
            "text/plain": [
              "<Figure size 640x480 with 1 Axes>"
            ],
            "image/png": "[encoded data removed]"
          },
          "metadata": {}
        },
        {
          "output_type": "stream",
          "name": "stdout",
          "text": [
            "Skewness is:  0.11680083110533511\n",
            "Kurtosis is:  0.06620589292148393\n"
          ]
        },
        {
          "output_type": "display_data",
          "data": {
            "text/plain": [
              "<Figure size 800x500 with 1 Axes>"
            ],
            "image/png": "[encoded data removed]"
          },
          "metadata": {}
        }
      ]
    },
    {
      "cell_type": "code",
      "source": [
        "# 24. Implement the Pearson and Spearman correlation coefficients for a dataset.\n",
        "import pandas as pd\n",
        "from scipy.stats import pearsonr, spearmanr\n",
        "\n",
        "df = {\"Math_score\": [20,40,50,70,80],\n",
        "      \"English_score\": [70,50,60,40,30]}\n",
        "\n",
        "data = pd.DataFrame(df)\n",
        "# Using Scipy\n",
        "person_corr = pearsonr(data[\"Math_score\"], data[\"English_score\"])\n",
        "print(person_corr)\n",
        "# Using pandas\n",
        "person_corr_pd = data.corr(method=\"pearson\")\n",
        "print(person_corr_pd)\n",
        "\n",
        "# Using Scipy\n",
        "spearman_corr = spearmanr(data[\"Math_score\"], data[\"English_score\"])\n",
        "print(spearman_corr)\n",
        "# Using pandas\n",
        "spearman_corr_pd = data.corr(method=\"spearman\")\n",
        "print(spearman_corr_pd)"
      ],
      "metadata": {
        "colab": {
          "base_uri": "https://localhost:8080/"
        },
        "id": "td_QZhlSfyCO",
        "outputId": "d7f7fcc5-2320-4954-c62f-a12864e6bf29"
      },
      "execution_count": null,
      "outputs": [
        {
          "output_type": "stream",
          "name": "stdout",
          "text": [
            "PearsonRResult(statistic=np.float64(-0.9271726499455306), pvalue=np.float64(0.02333316200500694))\n",
            "               Math_score  English_score\n",
            "Math_score       1.000000      -0.927173\n",
            "English_score   -0.927173       1.000000\n",
            "SignificanceResult(statistic=np.float64(-0.8999999999999998), pvalue=np.float64(0.03738607346849874))\n",
            "               Math_score  English_score\n",
            "Math_score            1.0           -0.9\n",
            "English_score        -0.9            1.0\n"
          ]
        }
      ]
    }
  ]
}